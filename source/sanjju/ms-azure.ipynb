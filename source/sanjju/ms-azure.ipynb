{
 "cells": [
  {
   "cell_type": "code",
   "execution_count": 3,
   "id": "63edc0a5-41c4-4456-a152-7349114bb3ac",
   "metadata": {},
   "outputs": [
    {
     "ename": "RuntimeError",
     "evalue": "Exception with an error code: 0x8 (SPXERR_FILE_OPEN_FAILED)\n[CALL STACK BEGIN]\n\n3   libMicrosoft.CognitiveServices.Spee 0x00000001064712c4 GetModuleObject + 1101796\n4   libMicrosoft.CognitiveServices.Spee 0x000000010646f1c4 GetModuleObject + 1093348\n5   libMicrosoft.CognitiveServices.Spee 0x000000010646f89c GetModuleObject + 1095100\n6   libMicrosoft.CognitiveServices.Spee 0x000000010647f580 GetModuleObject + 1159840\n7   libMicrosoft.CognitiveServices.Spee 0x000000010647ce8c GetModuleObject + 1149868\n8   libMicrosoft.CognitiveServices.Spee 0x0000000106571e84 ring_buffer_window + 824436\n9   libMicrosoft.CognitiveServices.Spee 0x0000000106571e84 ring_buffer_window + 824436\n10  libMicrosoft.CognitiveServices.Spee 0x00000001064dabbc ring_buffer_window + 205228\n11  libMicrosoft.CognitiveServices.Spee 0x00000001064da89c ring_buffer_window + 204428\n12  libMicrosoft.CognitiveServices.Spee 0x0000000106516c4c ring_buffer_window + 451132\n13  libMicrosoft.CognitiveServices.Spee 0x00000001065165ec ring_buffer_window + 449500\n14  libMicrosoft.CognitiveServices.Spee 0x0000000106514314 ring_buffer_window + 440580\n15  libMicrosoft.CognitiveServices.Spee 0x00000001065144f0 ring_buffer_window + 441056\n16  libMicrosoft.CognitiveServices.Spee 0x00000001063037bc recognizer_create_speech_recognizer_from_config + 3936\n17  libMicrosoft.CognitiveServices.Spee 0x0000000106302904 recognizer_create_speech_recognizer_from_config + 168\n18  _speech_py_impl.so                  0x0000000105d42ad8 PyInit__speech_py_impl + 1026916\n19  _speech_py_impl.so                  0x0000000105cbcc68 PyInit__speech_py_impl + 478452\n[CALL STACK END]\n\n",
     "output_type": "error",
     "traceback": [
      "\u001b[0;31m---------------------------------------------------------------------------\u001b[0m",
      "\u001b[0;31mRuntimeError\u001b[0m                              Traceback (most recent call last)",
      "Input \u001b[0;32mIn [3]\u001b[0m, in \u001b[0;36m<cell line: 7>\u001b[0;34m()\u001b[0m\n\u001b[1;32m      4\u001b[0m speech_config \u001b[38;5;241m=\u001b[39m speechsdk\u001b[38;5;241m.\u001b[39mSpeechConfig(subscription\u001b[38;5;241m=\u001b[39mspeech_key, region\u001b[38;5;241m=\u001b[39mservice_region)\n\u001b[1;32m      6\u001b[0m audio_config \u001b[38;5;241m=\u001b[39m speechsdk\u001b[38;5;241m.\u001b[39maudio\u001b[38;5;241m.\u001b[39mAudioConfig(filename\u001b[38;5;241m=\u001b[39m\u001b[38;5;124m'\u001b[39m\u001b[38;5;124msource/data/audio_sample.wav\u001b[39m\u001b[38;5;124m'\u001b[39m)\n\u001b[0;32m----> 7\u001b[0m speech_recognizer \u001b[38;5;241m=\u001b[39m \u001b[43mspeechsdk\u001b[49m\u001b[38;5;241;43m.\u001b[39;49m\u001b[43mSpeechRecognizer\u001b[49m\u001b[43m(\u001b[49m\u001b[43mspeech_config\u001b[49m\u001b[38;5;241;43m=\u001b[39;49m\u001b[43mspeech_config\u001b[49m\u001b[43m,\u001b[49m\u001b[43m \u001b[49m\u001b[43maudio_config\u001b[49m\u001b[38;5;241;43m=\u001b[39;49m\u001b[43maudio_config\u001b[49m\u001b[43m)\u001b[49m\n\u001b[1;32m      8\u001b[0m result \u001b[38;5;241m=\u001b[39m speech_recognizer\u001b[38;5;241m.\u001b[39mrecognize_once()\n\u001b[1;32m      9\u001b[0m \u001b[38;5;28mprint\u001b[39m(result\u001b[38;5;241m.\u001b[39mtext)\n",
      "File \u001b[0;32m/opt/homebrew/Caskroom/miniconda/base/envs/ml38/lib/python3.8/site-packages/azure/cognitiveservices/speech/speech.py:820\u001b[0m, in \u001b[0;36mSpeechRecognizer.__init__\u001b[0;34m(self, speech_config, audio_config, language, source_language_config, auto_detect_source_language_config)\u001b[0m\n\u001b[1;32m    815\u001b[0m \u001b[38;5;28;01mif\u001b[39;00m languageConfigNum \u001b[38;5;241m>\u001b[39m \u001b[38;5;241m1\u001b[39m:\n\u001b[1;32m    816\u001b[0m     \u001b[38;5;28;01mraise\u001b[39;00m \u001b[38;5;167;01mValueError\u001b[39;00m(\u001b[38;5;124m'\u001b[39m\u001b[38;5;124mcannot construct SpeechRecognizer with more than one language configurations, \u001b[39m\u001b[38;5;124m'\u001b[39m\n\u001b[1;32m    817\u001b[0m                      \u001b[38;5;124m'\u001b[39m\u001b[38;5;124mplease only specify one of these three parameters: language, \u001b[39m\u001b[38;5;124m'\u001b[39m\n\u001b[1;32m    818\u001b[0m                      \u001b[38;5;124m'\u001b[39m\u001b[38;5;124msource_language_config or auto_detect_source_language_config\u001b[39m\u001b[38;5;124m'\u001b[39m)\n\u001b[0;32m--> 820\u001b[0m \u001b[38;5;28mself\u001b[39m\u001b[38;5;241m.\u001b[39m_impl \u001b[38;5;241m=\u001b[39m \u001b[38;5;28;43mself\u001b[39;49m\u001b[38;5;241;43m.\u001b[39;49m\u001b[43m_get_impl\u001b[49m\u001b[43m(\u001b[49m\u001b[43mimpl\u001b[49m\u001b[38;5;241;43m.\u001b[39;49m\u001b[43mSpeechRecognizer\u001b[49m\u001b[43m,\u001b[49m\u001b[43m \u001b[49m\u001b[43mspeech_config\u001b[49m\u001b[43m,\u001b[49m\u001b[43m \u001b[49m\u001b[43maudio_config\u001b[49m\u001b[43m,\u001b[49m\u001b[43m \u001b[49m\u001b[43mlanguage\u001b[49m\u001b[43m,\u001b[49m\n\u001b[1;32m    821\u001b[0m \u001b[43m                            \u001b[49m\u001b[43msource_language_config\u001b[49m\u001b[43m,\u001b[49m\u001b[43m \u001b[49m\u001b[43mauto_detect_source_language_config\u001b[49m\u001b[43m)\u001b[49m\n",
      "File \u001b[0;32m/opt/homebrew/Caskroom/miniconda/base/envs/ml38/lib/python3.8/site-packages/azure/cognitiveservices/speech/speech.py:885\u001b[0m, in \u001b[0;36mSpeechRecognizer._get_impl\u001b[0;34m(reco_type, speech_config, audio_config, language, source_language_config, auto_detect_source_language_config)\u001b[0m\n\u001b[1;32m    883\u001b[0m     \u001b[38;5;28;01mif\u001b[39;00m audio_config \u001b[38;5;129;01mis\u001b[39;00m \u001b[38;5;28;01mNone\u001b[39;00m:\n\u001b[1;32m    884\u001b[0m         \u001b[38;5;28;01mreturn\u001b[39;00m reco_type\u001b[38;5;241m.\u001b[39m_from_config(speech_config\u001b[38;5;241m.\u001b[39m_impl)\n\u001b[0;32m--> 885\u001b[0m     \u001b[38;5;28;01mreturn\u001b[39;00m \u001b[43mreco_type\u001b[49m\u001b[38;5;241;43m.\u001b[39;49m\u001b[43m_from_config\u001b[49m\u001b[43m(\u001b[49m\u001b[43mspeech_config\u001b[49m\u001b[38;5;241;43m.\u001b[39;49m\u001b[43m_impl\u001b[49m\u001b[43m,\u001b[49m\u001b[43m \u001b[49m\u001b[43maudio_config\u001b[49m\u001b[38;5;241;43m.\u001b[39;49m\u001b[43m_impl\u001b[49m\u001b[43m)\u001b[49m\n\u001b[1;32m    886\u001b[0m \u001b[38;5;28;01mif\u001b[39;00m language \u001b[38;5;129;01mis\u001b[39;00m \u001b[38;5;129;01mnot\u001b[39;00m \u001b[38;5;28;01mNone\u001b[39;00m:\n\u001b[1;32m    887\u001b[0m     \u001b[38;5;28;01mif\u001b[39;00m audio_config \u001b[38;5;129;01mis\u001b[39;00m \u001b[38;5;28;01mNone\u001b[39;00m:\n",
      "\u001b[0;31mRuntimeError\u001b[0m: Exception with an error code: 0x8 (SPXERR_FILE_OPEN_FAILED)\n[CALL STACK BEGIN]\n\n3   libMicrosoft.CognitiveServices.Spee 0x00000001064712c4 GetModuleObject + 1101796\n4   libMicrosoft.CognitiveServices.Spee 0x000000010646f1c4 GetModuleObject + 1093348\n5   libMicrosoft.CognitiveServices.Spee 0x000000010646f89c GetModuleObject + 1095100\n6   libMicrosoft.CognitiveServices.Spee 0x000000010647f580 GetModuleObject + 1159840\n7   libMicrosoft.CognitiveServices.Spee 0x000000010647ce8c GetModuleObject + 1149868\n8   libMicrosoft.CognitiveServices.Spee 0x0000000106571e84 ring_buffer_window + 824436\n9   libMicrosoft.CognitiveServices.Spee 0x0000000106571e84 ring_buffer_window + 824436\n10  libMicrosoft.CognitiveServices.Spee 0x00000001064dabbc ring_buffer_window + 205228\n11  libMicrosoft.CognitiveServices.Spee 0x00000001064da89c ring_buffer_window + 204428\n12  libMicrosoft.CognitiveServices.Spee 0x0000000106516c4c ring_buffer_window + 451132\n13  libMicrosoft.CognitiveServices.Spee 0x00000001065165ec ring_buffer_window + 449500\n14  libMicrosoft.CognitiveServices.Spee 0x0000000106514314 ring_buffer_window + 440580\n15  libMicrosoft.CognitiveServices.Spee 0x00000001065144f0 ring_buffer_window + 441056\n16  libMicrosoft.CognitiveServices.Spee 0x00000001063037bc recognizer_create_speech_recognizer_from_config + 3936\n17  libMicrosoft.CognitiveServices.Spee 0x0000000106302904 recognizer_create_speech_recognizer_from_config + 168\n18  _speech_py_impl.so                  0x0000000105d42ad8 PyInit__speech_py_impl + 1026916\n19  _speech_py_impl.so                  0x0000000105cbcc68 PyInit__speech_py_impl + 478452\n[CALL STACK END]\n\n"
     ]
    }
   ],
   "source": [
    "import azure.cognitiveservices.speech as speechsdk\n",
    "\n",
    "speech_key, service_region = \"<your api key>\", \"<your region>\"\n",
    "speech_config = speechsdk.SpeechConfig(subscription=speech_key, region=service_region)\n",
    "\n",
    "audio_config = speechsdk.audio.AudioConfig(filename='source/data/audio_sample.wav')\n",
    "speech_recognizer = speechsdk.SpeechRecognizer(speech_config=speech_config, audio_config=audio_config)\n",
    "result = speech_recognizer.recognize_once()\n",
    "print(result.text)"
   ]
  },
  {
   "cell_type": "code",
   "execution_count": 1,
   "id": "90243e20-1040-455b-b00e-56d8363693eb",
   "metadata": {},
   "outputs": [
    {
     "name": "stdout",
     "output_type": "stream",
     "text": [
      "Speak into your microphone.\n",
      "Speech Recognition canceled: CancellationReason.Error\n",
      "Error details: Connection failed (no connection to the remote host). Internal error: 11. Error details: Failed with error: WS_OPEN_ERROR_UNDERLYING_IO_ERROR\n",
      "wss://YourServiceRegion.stt.speech.microsoft.com/speech/recognition/interactive/cognitiveservices/v1?language=en-US\n",
      "X-ConnectionId: 96fdd3fc3d2e407ba9dcd55e693661a7 SessionId: 96fdd3fc3d2e407ba9dcd55e693661a7\n",
      "Did you set the speech resource key and region values?\n"
     ]
    }
   ],
   "source": [
    "import azure.cognitiveservices.speech as speechsdk\n",
    "\n",
    "def recognize_from_microphone():\n",
    "    speech_config = speechsdk.SpeechConfig(subscription=\"YourSubscriptionKey\", region=\"YourServiceRegion\")\n",
    "    speech_config.speech_recognition_language=\"en-US\"\n",
    "\n",
    "    audio_config = speechsdk.audio.AudioConfig(use_default_microphone=True)\n",
    "    speech_recognizer = speechsdk.SpeechRecognizer(speech_config=speech_config, audio_config=audio_config)\n",
    "\n",
    "    print(\"Speak into your microphone.\")\n",
    "    speech_recognition_result = speech_recognizer.recognize_once_async().get()\n",
    "\n",
    "    if speech_recognition_result.reason == speechsdk.ResultReason.RecognizedSpeech:\n",
    "        print(\"Recognized: {}\".format(speech_recognition_result.text))\n",
    "    elif speech_recognition_result.reason == speechsdk.ResultReason.NoMatch:\n",
    "        print(\"No speech could be recognized: {}\".format(speech_recognition_result.no_match_details))\n",
    "    elif speech_recognition_result.reason == speechsdk.ResultReason.Canceled:\n",
    "        cancellation_details = speech_recognition_result.cancellation_details\n",
    "        print(\"Speech Recognition canceled: {}\".format(cancellation_details.reason))\n",
    "        if cancellation_details.reason == speechsdk.CancellationReason.Error:\n",
    "            print(\"Error details: {}\".format(cancellation_details.error_details))\n",
    "            print(\"Did you set the speech resource key and region values?\")\n",
    "\n",
    "recognize_from_microphone()"
   ]
  },
  {
   "cell_type": "code",
   "execution_count": null,
   "id": "dcb7e8d5-86fe-4791-82a9-1889c1c25575",
   "metadata": {},
   "outputs": [],
   "source": []
  }
 ],
 "metadata": {
  "kernelspec": {
   "display_name": "Python 3.8.9 64-bit",
   "language": "python",
   "name": "python3"
  },
  "language_info": {
   "codemirror_mode": {
    "name": "ipython",
    "version": 3
   },
   "file_extension": ".py",
   "mimetype": "text/x-python",
   "name": "python",
   "nbconvert_exporter": "python",
   "pygments_lexer": "ipython3",
   "version": "3.8.9"
  },
  "vscode": {
   "interpreter": {
    "hash": "31f2aee4e71d21fbe5cf8b01ff0e069b9275f58929596ceb00d14d90e3e16cd6"
   }
  }
 },
 "nbformat": 4,
 "nbformat_minor": 5
}
